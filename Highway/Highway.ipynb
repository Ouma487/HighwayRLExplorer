{
  "cells": [
    {
      "cell_type": "code",
      "execution_count": null,
      "metadata": {
        "colab": {
          "base_uri": "https://localhost:8080/"
        },
        "id": "WsL9HhxYG_WT",
        "outputId": "749acd8c-db7c-41b5-95e4-55071ae784fa"
      },
      "outputs": [],
      "source": [
        "!pip install highway-env"
      ]
    },
    {
      "cell_type": "markdown",
      "metadata": {
        "id": "fvcW9QsEa4Z5"
      },
      "source": [
        "# Setup: Import Libraries and Configuration"
      ]
    },
    {
      "cell_type": "code",
      "execution_count": 58,
      "metadata": {
        "id": "sHfc-f9HaeQz"
      },
      "outputs": [],
      "source": [
        "# Import necessary libraries\n",
        "import gymnasium as gym\n",
        "import highway_env\n",
        "import sys\n",
        "import torch\n",
        "import torch.nn as nn\n",
        "import torch.nn.functional as F\n",
        "import torch.optim as optim\n",
        "import numpy as np\n",
        "import random\n",
        "from copy import deepcopy\n",
        "import matplotlib.pyplot as plt\n",
        "import time\n",
        "import os\n",
        "os.environ[\"SDL_VIDEODRIVER\"] = \"dummy\"\n",
        "\n",
        "\n",
        "# Local imports\n",
        "from config import config  # Import the configuration settings from config.py."
      ]
    },
    {
      "cell_type": "markdown",
      "metadata": {
        "id": "_HcK1P2RbFHD"
      },
      "source": [
        "# Initialize and Configure the Reinforcement Learning Environment\n"
      ]
    },
    {
      "cell_type": "code",
      "execution_count": 59,
      "metadata": {
        "id": "bfW3R4g6G_WZ"
      },
      "outputs": [],
      "source": [
        "import gymnasium as gym\n",
        "import highway_env\n",
        "\n",
        "\n",
        "env = gym.make(\"highway-fast-v0\",render_mode='rgb_array')\n",
        "env.unwrapped.configure(config)"
      ]
    },
    {
      "cell_type": "markdown",
      "metadata": {
        "id": "Mb-NAdk5byff"
      },
      "source": [
        "# Explore Environment's Action and Observation Spaces"
      ]
    },
    {
      "cell_type": "code",
      "execution_count": 29,
      "metadata": {
        "colab": {
          "base_uri": "https://localhost:8080/"
        },
        "id": "97fSTxAKG_Wc",
        "outputId": "1484765a-06d8-4332-e5ae-3730496f6806"
      },
      "outputs": [
        {
          "name": "stdout",
          "output_type": "stream",
          "text": [
            "Discrete(9)\n",
            "Box(-inf, inf, (7, 8, 8), float32)\n"
          ]
        }
      ],
      "source": [
        "# get actions\n",
        "action_space = env.action_space\n",
        "observation_space = env.observation_space\n",
        "print(action_space)\n",
        "print(observation_space)"
      ]
    },
    {
      "cell_type": "code",
      "execution_count": 30,
      "metadata": {
        "colab": {
          "base_uri": "https://localhost:8080/"
        },
        "id": "T-RyC3wbG_Wf",
        "outputId": "4c3d647f-f19b-4908-c6b8-36cc0d44d71a"
      },
      "outputs": [
        {
          "name": "stdout",
          "output_type": "stream",
          "text": [
            "Discrete(9)\n"
          ]
        }
      ],
      "source": [
        "# How many actions we have?\n",
        "print(env.action_space)"
      ]
    },
    {
      "cell_type": "code",
      "execution_count": 31,
      "metadata": {
        "colab": {
          "base_uri": "https://localhost:8080/"
        },
        "id": "gt6ZngzYG_Wf",
        "outputId": "f069ccfc-a034-41a0-a770-a72775f102ef"
      },
      "outputs": [
        {
          "name": "stdout",
          "output_type": "stream",
          "text": [
            "Box(-inf, inf, (7, 8, 8), float32)\n"
          ]
        }
      ],
      "source": [
        "# How many observations we have?\n",
        "print(env.observation_space)\n"
      ]
    },
    {
      "cell_type": "code",
      "execution_count": 32,
      "metadata": {
        "colab": {
          "base_uri": "https://localhost:8080/"
        },
        "id": "HHCbahiTG_Wf",
        "outputId": "3c7b1783-5f1e-4239-a64a-fe3c7b37442d"
      },
      "outputs": [
        {
          "data": {
            "text/plain": [
              "7"
            ]
          },
          "execution_count": 32,
          "metadata": {},
          "output_type": "execute_result"
        }
      ],
      "source": [
        "env.observation_space.shape[0]"
      ]
    },
    {
      "cell_type": "markdown",
      "metadata": {
        "id": "gDSAz_stG_Wg"
      },
      "source": [
        "# Deep Q-Network Algorithm\n",
        "Deep Q-Network (DQN) is an advanced reinforcement learning algorithm that integrates deep neural networks with Q-learning. The key innovation in DQN is the use of a neural network to approximate the Q-value function, which evaluates the quality of particular actions taken in specific states. This allows DQN to handle environments with high-dimensional observation spaces that traditional Q-learning can't manage effectively. Additionally, DQN employs techniques such as experience replay and fixed Q-targets to stabilize the training process and improve convergence."
      ]
    },
    {
      "cell_type": "markdown",
      "metadata": {
        "id": "TFv04EpMG_Wi"
      },
      "source": [
        "## Replay Buffer:\n",
        "A replay buffer is a data structure used in reinforcement learning to store transitions experienced by the agent during interaction with the environment. By randomly sampling from this buffer to train the agent, it helps break the correlation between consecutive learning samples and stabilizes the learning process."
      ]
    },
    {
      "cell_type": "code",
      "execution_count": 33,
      "metadata": {
        "id": "ByVicg7VG_Wi"
      },
      "outputs": [],
      "source": [
        "class ReplayBuffer:\n",
        "    \"\"\"A simple FIFO (First In, First Out) buffer for storing experience tuples.\"\"\"\n",
        "    def __init__(self, capacity):\n",
        "        \"\"\"\n",
        "        Initialize the replay buffer with a fixed capacity.\n",
        "        Args:\n",
        "            capacity (int): The maximum number of transitions to store in the buffer.\n",
        "        \"\"\"\n",
        "        self.capacity = capacity  # Maximum number of elements in the buffer\n",
        "        self.memory = []  # Internal list to hold the experiences\n",
        "        self.position = 0  # Current position in the circular buffer\n",
        "\n",
        "    def push(self, state, action, reward, terminated, next_state):\n",
        "        \"\"\"\n",
        "        Add a transition tuple to the buffer.\n",
        "        Args:\n",
        "            state: The state of the environment before taking the action.\n",
        "            action: The action taken.\n",
        "            reward: The reward received after taking the action.\n",
        "            terminated: Boolean flag indicating if the episode has ended.\n",
        "            next_state: The state of the environment after taking the action.\n",
        "        \"\"\"\n",
        "        # If buffer is not full, append a slot\n",
        "        if len(self.memory) < self.capacity:\n",
        "            self.memory.append(None)\n",
        "        # Store the transition at the current position in a circular manner\n",
        "        self.memory[self.position] = (state, action, reward, terminated, next_state)\n",
        "        # Update position\n",
        "        self.position = (self.position + 1) % self.capacity\n",
        "\n",
        "    def sample(self, batch_size):\n",
        "        \"\"\"\n",
        "        Randomly sample a batch of transitions from the buffer.\n",
        "        Args:\n",
        "            batch_size (int): The number of transitions to sample.\n",
        "        Returns:\n",
        "            List[Tuple]: A list of randomly sampled transitions.\n",
        "        \"\"\"\n",
        "        return random.choices(self.memory, k=batch_size)  # Return randomly chosen samples\n",
        "\n",
        "    def __len__(self):\n",
        "        \"\"\"\n",
        "        Return the current size of internal memory.\n",
        "        \"\"\"\n",
        "        return len(self.memory)  # Number of elements in the buffer\n",
        "\n",
        "# Example of creating and using a replay buffer\n",
        "#replay_buffer = ReplayBuffer(1000)\n",
        "# Now you can push transitions to the buffer and sample from it as needed.\n"
      ]
    },
    {
      "cell_type": "markdown",
      "metadata": {
        "id": "fYtvbLfQG_Wi"
      },
      "source": [
        "## Neural network:\n",
        "A neural network in the context of Deep Q-Networks (DQN) serves as a function approximator to estimate the action-value function, which predicts the expected reward for each action taken in a given state. This allows the DQN to learn optimal policies by updating the neural network's weights based on the temporal differences in observed rewards, facilitating efficient decision-making in complex environments."
      ]
    },
    {
      "cell_type": "code",
      "execution_count": 34,
      "metadata": {
        "id": "NiTDHbfZG_Wi"
      },
      "outputs": [],
      "source": [
        "class Net(nn.Module):\n",
        "    def __init__(self, input_size, hidden_size, output_size):\n",
        "        super(Net, self).__init__()\n",
        "        # Initialize the base class from nn.Module, necessary for all PyTorch networks.\n",
        "\n",
        "        # Define the first fully connected layer (fc1) from input to hidden layer.\n",
        "        self.fc1 = nn.Linear(input_size, hidden_size)\n",
        "\n",
        "        # Define the second fully connected layer (fc2) from hidden to output layer.\n",
        "        self.fc2 = nn.Linear(hidden_size, output_size)\n",
        "\n",
        "    def forward(self, x):\n",
        "        # The forward pass defines how the data flows through the network from input to output.\n",
        "\n",
        "        # Flatten the input tensor to fit the expected input of the first layer if not already flat.\n",
        "        x = x.view(x.size(0), -1)\n",
        "\n",
        "        # Apply a ReLU activation function to the output of the first layer for non-linearity.\n",
        "        x = F.relu(self.fc1(x))\n",
        "\n",
        "        # The output layer receives the activated output from the hidden layer.\n",
        "        x = self.fc2(x)\n",
        "        return x\n"
      ]
    },
    {
      "cell_type": "markdown",
      "metadata": {
        "id": "GML2bjgVG_Wi"
      },
      "source": [
        "## DQN"
      ]
    },
    {
      "cell_type": "code",
      "execution_count": 35,
      "metadata": {
        "id": "OJzzY75-G_Wj"
      },
      "outputs": [],
      "source": [
        "class DQN:\n",
        "    \"\"\"\n",
        "    Deep Q-Network (DQN) implementation for reinforcement learning.\n",
        "    This class encapsulates the learning algorithm which utilizes a neural network\n",
        "    to estimate Q-values for each action given a state.\n",
        "    \"\"\"\n",
        "    def __init__(self,\n",
        "                action_space,\n",
        "                observation_space,\n",
        "                gamma,\n",
        "                batch_size,\n",
        "                buffer_capacity,\n",
        "                update_target_every,\n",
        "                epsilon_start,\n",
        "                decrease_epsilon_factor,\n",
        "                epsilon_min,\n",
        "                learning_rate,\n",
        "                ):\n",
        "        \"\"\"\n",
        "        Initializes a new instance of the DQN class.\n",
        "\n",
        "        Parameters:\n",
        "            action_space: The space of all possible actions.\n",
        "            observation_space: The space of all possible states.\n",
        "            gamma: Discount factor for future rewards.\n",
        "            batch_size: Number of samples per batch for network updates.\n",
        "            buffer_capacity: Maximum size of the buffer for storing transitions.\n",
        "            update_target_every: Number of steps between updates to the target network.\n",
        "            epsilon_start: Initial value of epsilon for the epsilon-greedy policy.\n",
        "            decrease_epsilon_factor: Rate at which epsilon decreases.\n",
        "            epsilon_min: Minimum value of epsilon.\n",
        "            learning_rate: Learning rate for the optimizer.\n",
        "        \"\"\"\n",
        "        self.action_space = action_space\n",
        "        self.observation_space = observation_space\n",
        "        self.gamma = gamma\n",
        "\n",
        "        self.batch_size = batch_size\n",
        "        self.buffer_capacity = buffer_capacity\n",
        "        self.update_target_every = update_target_every\n",
        "\n",
        "        self.epsilon_start = epsilon_start\n",
        "        self.decrease_epsilon_factor = decrease_epsilon_factor # larger -> more exploration\n",
        "        self.epsilon_min = epsilon_min\n",
        "\n",
        "        self.learning_rate = learning_rate\n",
        "\n",
        "        self.reset()\n",
        "\n",
        "    def get_action(self, state,epsilon = None):\n",
        "        \"\"\"\n",
        "        Determine the action to take based on the current state and epsilon-greedy policy.\n",
        "\n",
        "        Parameters:\n",
        "            state: Current state of the environment.\n",
        "            epsilon: Exploration rate, if None uses the current epsilon value.\n",
        "\n",
        "        Returns:\n",
        "            The action to take as an integer.\n",
        "        \"\"\"\n",
        "        if epsilon is None:\n",
        "            epsilon = self.epsilon\n",
        "        if np.random.rand() < epsilon:\n",
        "            return self.action_space.sample()\n",
        "        else:\n",
        "            q_values = self.get_q(state)\n",
        "            return np.argmax(q_values)\n",
        "\n",
        "    def update(self, state, action, reward, terminated, next_state):\n",
        "        \"\"\"\n",
        "        Update the model based on the state transition.\n",
        "\n",
        "        Parameters:\n",
        "            state: The initial state.\n",
        "            action: The action taken.\n",
        "            reward: The reward received after taking the action.\n",
        "            terminated: Whether the episode has ended.\n",
        "            next_state: The state after taking the action.\n",
        "\n",
        "        Returns:\n",
        "            The loss value as a float, indicating how well the prediction matched the expected outcome.\n",
        "        \"\"\"\n",
        "        self.buffer.push(\n",
        "            torch.tensor(state,dtype=torch.float32).unsqueeze(0),\n",
        "            torch.tensor([[action]],dtype=torch.int64),\n",
        "            torch.tensor([reward],dtype=torch.float32),\n",
        "            torch.tensor([terminated], dtype=torch.int64),\n",
        "            torch.tensor(next_state).unsqueeze(0)\n",
        "        )\n",
        "\n",
        "        if len(self.buffer) < self.batch_size:\n",
        "            return np.inf\n",
        "\n",
        "        # get batches\n",
        "        transitions = self.buffer.sample(self.batch_size)\n",
        "\n",
        "        state_batch, action_batch, reward_batch, terminated_batch, next_state_batch = tuple(\n",
        "            [torch.cat(data) for data in zip(*transitions)]\n",
        "        )\n",
        "\n",
        "\n",
        "\n",
        "        #print(action_batch.shape)\n",
        "        #print(state_batch.shape)\n",
        "\n",
        "        values = self.q_net.forward(state_batch).gather(1, action_batch)\n",
        "\n",
        "        # Compute the ideal Q values\n",
        "        with torch.no_grad():\n",
        "            next_state_values = (1 - terminated_batch) * self.target_net(\n",
        "                next_state_batch\n",
        "            ).max(1)[0]\n",
        "            targets = next_state_values * self.gamma + reward_batch\n",
        "\n",
        "        loss = self.loss_function(values, targets.unsqueeze(1))\n",
        "\n",
        "        # Optimize the model\n",
        "        self.optimizer.zero_grad()\n",
        "        loss.backward()\n",
        "        self.optimizer.step()\n",
        "\n",
        "        if not ((self.n_steps + 1) % self.update_target_every):\n",
        "            self.target_net.load_state_dict(self.q_net.state_dict())\n",
        "\n",
        "        self.decrease_epsilon()\n",
        "\n",
        "        self.n_steps += 1\n",
        "        if terminated:\n",
        "            self.n_eps += 1\n",
        "\n",
        "        return loss.detach().numpy()\n",
        "\n",
        "\n",
        "    def get_q(self, state):\n",
        "        \"\"\"\n",
        "        Compute the Q-values for all actions given a state using the Q-network.\n",
        "\n",
        "        Parameters:\n",
        "            state: The state for which to compute Q-values.\n",
        "\n",
        "        Returns:\n",
        "            A numpy array of Q-values for each action.\n",
        "        \"\"\"\n",
        "        state_tensor = torch.tensor(state).unsqueeze(0)\n",
        "        #print(state_tensor.shape[0])\n",
        "        with torch.no_grad():\n",
        "            output = self.q_net.forward(state_tensor) # shape (1,  n_actions)\n",
        "\n",
        "        return output.numpy()[0]  # shape  (n_actions)\n",
        "\n",
        "    def decrease_epsilon(self):\n",
        "        \"\"\"\n",
        "        Decrease the epsilon value based on the exponential decay rate.\n",
        "        \"\"\"\n",
        "        self.epsilon = self.epsilon_min + (self.epsilon_start - self.epsilon_min) * (\n",
        "                        np.exp(-1. * self.n_eps / self.decrease_epsilon_factor ) )\n",
        "\n",
        "    def reset(self):\n",
        "        \"\"\"\n",
        "        Reset the DQN model, initializing or re-initializing its components.\n",
        "        This includes setting up the networks, optimizer, and loss function.\n",
        "        \"\"\"\n",
        "        hidden_size = 128\n",
        "\n",
        "        obs_size = 7*8*8\n",
        "        #print(obs_size)\n",
        "        n_actions = self.action_space.n\n",
        "\n",
        "        self.buffer = ReplayBuffer(self.buffer_capacity)\n",
        "        self.q_net =  Net(obs_size, hidden_size, n_actions)\n",
        "        self.target_net = Net(obs_size, hidden_size, n_actions)\n",
        "\n",
        "        self.loss_function = nn.MSELoss()\n",
        "        self.optimizer = optim.Adam(params=self.q_net.parameters(), lr=self.learning_rate)\n",
        "\n",
        "        self.epsilon = self.epsilon_start\n",
        "        self.n_steps = 0\n",
        "        self.n_eps = 0\n"
      ]
    },
    {
      "cell_type": "markdown",
      "metadata": {
        "id": "WdqxTrrbeUw3"
      },
      "source": [
        "## Evaluation of the Agent"
      ]
    },
    {
      "cell_type": "code",
      "execution_count": 36,
      "metadata": {
        "id": "Qh7RHy5hG_Wj"
      },
      "outputs": [],
      "source": [
        "def eval_agent(agent, env, n_sim=5):\n",
        "    \"\"\"\n",
        "\n",
        "    Monte Carlo evaluation of DQN agent.\n",
        "\n",
        "    Repeat n_sim times:\n",
        "        * Run the DQN policy until the environment reaches a terminal state (= one episode)\n",
        "        * Compute the sum of rewards in this episode\n",
        "        * Store the sum of rewards in the episode_rewards array.\n",
        "    \"\"\"\n",
        "    env_copy = deepcopy(env)\n",
        "    episode_rewards = np.zeros(n_sim)\n",
        "    for i in range(n_sim):\n",
        "        state, _ = env_copy.reset()\n",
        "        reward_sum = 0\n",
        "        done = False\n",
        "        while not done:\n",
        "            action = agent.get_action(state, 0)\n",
        "            state, reward, terminated, truncated, _ = env_copy.step(action)\n",
        "            reward_sum += reward\n",
        "            done = terminated or truncated\n",
        "        episode_rewards[i] = reward_sum\n",
        "\n",
        "    return episode_rewards"
      ]
    },
    {
      "cell_type": "markdown",
      "metadata": {
        "id": "bx0fMRqOebOZ"
      },
      "source": [
        "# Training"
      ]
    },
    {
      "cell_type": "code",
      "execution_count": 37,
      "metadata": {
        "id": "bkSNwNR4isfe"
      },
      "outputs": [],
      "source": [
        "import cv2\n",
        "import gym\n",
        "from pathlib import Path\n",
        "import numpy as np\n",
        "from IPython.display import HTML\n",
        "from base64 import b64encode\n",
        "\n",
        "class RecordVideos(gym.Wrapper):\n",
        "    def __init__(self, env, save_dir=\"videos\", fps=20):\n",
        "        super().__init__(env)\n",
        "        self.frames = []\n",
        "        self.save_dir = Path(save_dir)\n",
        "        self.fps = fps\n",
        "        self.save_dir.mkdir(parents=True, exist_ok=True)\n",
        "        self.video_path = None\n",
        "\n",
        "    def reset(self, **kwargs):\n",
        "        self.frames = []\n",
        "        return super().reset(**kwargs)\n",
        "\n",
        "    def step(self, action):\n",
        "        observation, reward, done, truncated, info = super().step(action)\n",
        "        self.frames.append(self.env.render())\n",
        "        return observation, reward, done, truncated, info\n",
        "\n",
        "    def close(self):\n",
        "        if self.frames:\n",
        "            self.save_video()\n",
        "        super().close()\n",
        "\n",
        "    def save_video(self):\n",
        "        video_id = len(list(self.save_dir.glob(\"*.avi\"))) + 1\n",
        "        self.video_path = self.save_dir / f\"episode_{video_id}.avi\"\n",
        "        frame_size = (self.frames[0].shape[1], self.frames[0].shape[0])\n",
        "        out = cv2.VideoWriter(str(self.video_path), cv2.VideoWriter_fourcc(*'DIVX'), self.fps, frame_size)\n",
        "        for frame in self.frames:\n",
        "            out.write(cv2.cvtColor(frame, cv2.COLOR_RGB2BGR))\n",
        "        out.release()\n",
        "\n",
        "def record_videos(env):\n",
        "    return RecordVideos(env)\n"
      ]
    },
    {
      "cell_type": "code",
      "execution_count": 40,
      "metadata": {
        "colab": {
          "base_uri": "https://localhost:8080/",
          "height": 304
        },
        "id": "hBw22RsGG_Wk",
        "outputId": "dd0077be-ba60-4718-8c7b-c036930b00ae"
      },
      "outputs": [],
      "source": [
        "import gymnasium as gym\n",
        "import highway_env\n",
        "\n",
        "\n",
        "env = gym.make(\"highway-fast-v0\",render_mode='rgb_array')\n",
        "env.unwrapped.configure(config)"
      ]
    },
    {
      "cell_type": "code",
      "execution_count": 41,
      "metadata": {
        "id": "VMR1LUqZG_Wk"
      },
      "outputs": [],
      "source": [
        "# Setup the environment's action and observation spaces\n",
        "env = record_videos(env)  # Wrap the environment to enable video recording\n",
        "action_space = env.action_space\n",
        "observation_space = env.observation_space\n",
        "\n",
        "# Initialize DQN parameters\n",
        "gamma = 0.8  # Discount factor for future rewards\n",
        "batch_size = 128  # Number of experiences to sample from buffer\n",
        "buffer_capacity = 15000  # Total size of experience replay buffer\n",
        "update_target_every = 50  # Frequency of target network update\n",
        "\n",
        "# Setup for epsilon-greedy strategy\n",
        "epsilon_start = 0.9  # Initial epsilon value for exploration\n",
        "decrease_epsilon_factor = 1000  # Rate at which epsilon decreases\n",
        "epsilon_min = 0.005  # Minimum epsilon value for exploration\n",
        "\n",
        "# Learning rate for the optimizer\n",
        "learning_rate = 5e-4\n",
        "\n",
        "# Grouping all parameters together for DQN initialization\n",
        "arguments = (action_space, observation_space, gamma, batch_size, buffer_capacity,\n",
        "             update_target_every, epsilon_start, decrease_epsilon_factor,\n",
        "             epsilon_min, learning_rate)\n",
        "\n",
        "# Set the number of episodes for training\n",
        "N_episodes = 500\n",
        "\n",
        "# Initialize the DQN agent with specified parameters\n",
        "agent = DQN(*arguments)\n",
        "\n",
        "def train(env, agent, N_episodes, eval_every=10, reward_threshold=300):\n",
        "    \"\"\"\n",
        "    Train the DQN agent in the specified environment over a given number of episodes.\n",
        "\n",
        "    Parameters:\n",
        "        env: The environment in which the agent operates.\n",
        "        agent: The DQN agent to train.\n",
        "        N_episodes: Total number of episodes for training.\n",
        "        eval_every: Evaluate the agent's performance every 'eval_every' episodes.\n",
        "        reward_threshold: The reward threshold to determine if training should be stopped early.\n",
        "\n",
        "    Returns:\n",
        "        A tuple containing lists of losses, average rewards per evaluation period, and epsilon values during training.\n",
        "    \"\"\"\n",
        "    total_time = 0  # Total timesteps taken\n",
        "    losses = []  # To store loss values per episode\n",
        "    avg_rewards = []  # To store average rewards per evaluation period\n",
        "    epsilons = []  # To store epsilon values\n",
        "\n",
        "    for ep in range(N_episodes):\n",
        "        done = False\n",
        "        state, _ = env.reset()  # Reset environment to start new episode\n",
        "        episode_loss = []  # List to store losses per episode\n",
        "        episode_rewards = []  # List to store rewards per episode\n",
        "\n",
        "        while not done:\n",
        "            action = agent.get_action(state)  # Determine action based on current state\n",
        "            next_state, reward, terminated, truncated, _ = env.step(action)  # Take action in environment\n",
        "            loss_val = agent.update(state, action, reward, terminated, next_state)  # Update the agent\n",
        "            state = next_state  # Move to the next state\n",
        "            episode_loss.append(loss_val)\n",
        "            episode_rewards.append(reward)\n",
        "            done = terminated or truncated  # Check if the episode is done\n",
        "            total_time += 1\n",
        "\n",
        "        losses.append(np.mean(episode_loss))  # Record average loss for this episode\n",
        "        epsilons.append(agent.epsilon)  # Record current epsilon\n",
        "\n",
        "        if ((ep + 1) % eval_every == 0):\n",
        "            eval_rewards = eval_agent(agent, env)  # Evaluate the agent\n",
        "            avg_reward = np.mean(eval_rewards)  # Calculate average reward\n",
        "            avg_rewards.append(avg_reward)  # Append to list\n",
        "            print(f\"Episode = {ep+1}, Average Reward = {avg_reward}, Epsilon = {agent.epsilon}\")\n",
        "            if avg_reward >= reward_threshold:\n",
        "                print(\"Reward threshold reached, stopping training.\")\n",
        "                break\n",
        "\n",
        "    return losses, avg_rewards, epsilons\n"
      ]
    },
    {
      "cell_type": "code",
      "execution_count": 44,
      "metadata": {
        "id": "Ove6irc4s6Dn"
      },
      "outputs": [
        {
          "name": "stdout",
          "output_type": "stream",
          "text": [
            "Episode = 10, Average Reward = 14.48125, Epsilon = 0.9\n",
            "Episode = 20, Average Reward = 11.0375, Epsilon = 0.9\n",
            "Episode = 30, Average Reward = 16.13125, Epsilon = 0.9\n",
            "Episode = 40, Average Reward = 10.01875, Epsilon = 0.8991054473508706\n",
            "Episode = 50, Average Reward = 12.64375, Epsilon = 0.8991054473508706\n",
            "Episode = 60, Average Reward = 13.3125, Epsilon = 0.8991054473508706\n",
            "Episode = 70, Average Reward = 15.1125, Epsilon = 0.8991054473508706\n",
            "Episode = 80, Average Reward = 13.78125, Epsilon = 0.8991054473508706\n",
            "Episode = 90, Average Reward = 12.4, Epsilon = 0.8991054473508706\n",
            "Episode = 100, Average Reward = 17.14375, Epsilon = 0.8991054473508706\n",
            "Episode = 110, Average Reward = 15.8375, Epsilon = 0.8991054473508706\n",
            "Episode = 120, Average Reward = 8.33125, Epsilon = 0.8991054473508706\n",
            "Episode = 130, Average Reward = 13.275, Epsilon = 0.8991054473508706\n",
            "Episode = 140, Average Reward = 15.74375, Epsilon = 0.8991054473508706\n",
            "Episode = 150, Average Reward = 12.8, Epsilon = 0.8991054473508706\n",
            "Episode = 160, Average Reward = 13.5625, Epsilon = 0.8991054473508706\n",
            "Episode = 170, Average Reward = 15.85625, Epsilon = 0.8991054473508706\n",
            "Episode = 180, Average Reward = 15.73125, Epsilon = 0.8991054473508706\n",
            "Episode = 190, Average Reward = 15.85, Epsilon = 0.8991054473508706\n",
            "Episode = 200, Average Reward = 16.975, Epsilon = 0.8991054473508706\n",
            "Episode = 210, Average Reward = 17.875, Epsilon = 0.8991054473508706\n",
            "Episode = 220, Average Reward = 15.75625, Epsilon = 0.8991054473508706\n",
            "Episode = 230, Average Reward = 18.24375, Epsilon = 0.8991054473508706\n",
            "Episode = 240, Average Reward = 15.7125, Epsilon = 0.8991054473508706\n",
            "Episode = 250, Average Reward = 14.5625, Epsilon = 0.8991054473508706\n",
            "Episode = 260, Average Reward = 14.5375, Epsilon = 0.8991054473508706\n",
            "Episode = 270, Average Reward = 15.9, Epsilon = 0.8991054473508706\n",
            "Episode = 280, Average Reward = 13.875, Epsilon = 0.8991054473508706\n",
            "Episode = 290, Average Reward = 15.86875, Epsilon = 0.8991054473508706\n",
            "Episode = 300, Average Reward = 15.1875, Epsilon = 0.8991054473508706\n",
            "Episode = 310, Average Reward = 14.95, Epsilon = 0.8982117888072632\n",
            "Episode = 320, Average Reward = 14.51875, Epsilon = 0.8973190234755188\n",
            "Episode = 330, Average Reward = 15.175, Epsilon = 0.8973190234755188\n",
            "Episode = 340, Average Reward = 16.2375, Epsilon = 0.8973190234755188\n",
            "Episode = 350, Average Reward = 17.0, Epsilon = 0.8973190234755188\n",
            "Episode = 360, Average Reward = 14.425, Epsilon = 0.8973190234755188\n",
            "Episode = 370, Average Reward = 15.1625, Epsilon = 0.8973190234755188\n",
            "Episode = 380, Average Reward = 14.6, Epsilon = 0.8973190234755188\n",
            "Episode = 390, Average Reward = 16.33125, Epsilon = 0.8973190234755188\n",
            "Episode = 400, Average Reward = 16.19375, Epsilon = 0.8973190234755188\n",
            "Episode = 410, Average Reward = 14.65625, Epsilon = 0.8973190234755188\n",
            "Episode = 420, Average Reward = 17.06875, Epsilon = 0.8973190234755188\n",
            "Episode = 430, Average Reward = 15.1125, Epsilon = 0.8973190234755188\n",
            "Episode = 440, Average Reward = 15.71875, Epsilon = 0.8973190234755188\n",
            "Episode = 450, Average Reward = 15.0625, Epsilon = 0.8973190234755188\n",
            "Episode = 460, Average Reward = 10.075, Epsilon = 0.8973190234755188\n",
            "Episode = 470, Average Reward = 16.96875, Epsilon = 0.8973190234755188\n",
            "Episode = 480, Average Reward = 15.70625, Epsilon = 0.8973190234755188\n",
            "Episode = 490, Average Reward = 16.3125, Epsilon = 0.8973190234755188\n",
            "Episode = 500, Average Reward = 15.125, Epsilon = 0.8973190234755188\n"
          ]
        },
        {
          "data": {
            "image/png": "[encoded data removed]",
            "text/plain": [
              "<Figure size 1200x500 with 3 Axes>"
            ]
          },
          "metadata": {},
          "output_type": "display_data"
        }
      ],
      "source": [
        "# Train the agent in the specified environment and collect the losses, average rewards, and epsilon values\n",
        "losses, avg_rewards, epsilons = train(env, agent, N_episodes)\n",
        "\n"
      ]
    },
    {
      "cell_type": "code",
      "execution_count": null,
      "metadata": {},
      "outputs": [],
      "source": [
        "\n",
        "# Plotting the results from the training process\n",
        "plt.figure(figsize=(12, 5))  # Set the size of the overall figure\n",
        "\n",
        "# Plotting the losses over each episode\n",
        "plt.subplot(1, 3, 1)  # Prepare a subplot in a 1x3 grid, first position\n",
        "plt.plot(losses)  # Plot the recorded losses\n",
        "plt.title(\"Losses\")  # Title of the plot indicating these are losses\n",
        "\n",
        "# Plotting the average rewards received every evaluation period\n",
        "plt.subplot(1, 3, 2)  # Prepare a subplot in a 1x3 grid, second position\n",
        "plt.plot(avg_rewards)  # Plot the average rewards\n",
        "plt.title(\"Average Rewards\")  # Title of the plot indicating these are average rewards\n",
        "\n",
        "# Plotting the epsilon values used during the training process\n",
        "plt.subplot(1, 3, 3)  # Prepare a subplot in a 1x3 grid, third position\n",
        "plt.plot(epsilons)  # Plot the epsilon values\n",
        "plt.title(\"Epsilon Values\")  # Title of the plot indicating these are the epsilon values\n",
        "\n",
        "plt.tight_layout()  # Automatically adjust subplot parameters to give specified padding\n",
        "plt.show()  # Display the created plots"
      ]
    },
    {
      "cell_type": "code",
      "execution_count": 43,
      "metadata": {
        "id": "gcA6GDruG_Wk"
      },
      "outputs": [
        {
          "name": "stdout",
          "output_type": "stream",
          "text": [
            "\n",
            "mean reward after training =  15.809375\n"
          ]
        }
      ],
      "source": [
        "# Evaluate the final policy\n",
        "rewards = eval_agent(agent, env, 20)\n",
        "print(\"\")\n",
        "print(\"mean reward after training = \", np.mean(rewards))"
      ]
    }
  ],
  "metadata": {
    "accelerator": "GPU",
    "colab": {
      "gpuType": "T4",
      "provenance": []
    },
    "kernelspec": {
      "display_name": "Python 3",
      "name": "python3"
    },
    "language_info": {
      "codemirror_mode": {
        "name": "ipython",
        "version": 3
      },
      "file_extension": ".py",
      "mimetype": "text/x-python",
      "name": "python",
      "nbconvert_exporter": "python",
      "pygments_lexer": "ipython3",
      "version": "3.11.1"
    }
  },
  "nbformat": 4,
  "nbformat_minor": 0
}
