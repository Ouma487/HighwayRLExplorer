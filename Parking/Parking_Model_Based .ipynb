{
 "cells": [
  {
   "cell_type": "markdown",
   "metadata": {},
   "source": [
    "# Importing libraries and initialization of the environment"
   ]
  },
  {
   "cell_type": "code",
   "execution_count": 10,
   "metadata": {},
   "outputs": [],
   "source": [
    "# Environment\n",
    "import gymnasium as gym\n",
    "import highway_env\n",
    "\n",
    "# Models and computation\n",
    "import torch\n",
    "import torch.nn as nn\n",
    "import torch.nn.functional as F\n",
    "import numpy as np\n",
    "from collections import namedtuple\n",
    "\n",
    "# Visualization\n",
    "import matplotlib\n",
    "import matplotlib.pyplot as plt\n",
    "%matplotlib inline\n",
    "from tqdm.notebook import trange\n",
    "from config_parking import config\n",
    "\n",
    "# IO\n",
    "from pathlib import Path"
   ]
  },
  {
   "cell_type": "code",
   "execution_count": 11,
   "metadata": {},
   "outputs": [],
   "source": [
    "env = gym.make(\"parking-v0\", render_mode=\"rgb_array\")"
   ]
  },
  {
   "cell_type": "code",
   "execution_count": 12,
   "metadata": {},
   "outputs": [],
   "source": [
    "env.unwrapped.configure(config)"
   ]
  },
  {
   "cell_type": "code",
   "execution_count": 13,
   "metadata": {},
   "outputs": [],
   "source": [
    "import cv2"
   ]
  },
  {
   "cell_type": "code",
   "execution_count": 14,
   "metadata": {},
   "outputs": [],
   "source": [
    "frames = []  # List to store each frame as an RGB array\n",
    "\n",
    "observation = env.reset()\n",
    "done = False\n",
    "while not done:\n",
    "    action = env.action_space.sample()  # Random action; replace as needed\n",
    "    observation, reward, done, info,_ = env.step(action)\n",
    "    frames.append(env.render())\n",
    "\n",
    "env.close()"
   ]
  },
  {
   "cell_type": "code",
   "execution_count": 15,
   "metadata": {},
   "outputs": [],
   "source": [
    "# Define video settings\n",
    "path = 'parking_env_episode.avi'  # Save path\n",
    "fps = 20  # Frames per second\n",
    "frame_size = (frames[0].shape[1], frames[0].shape[0])  # Frame size (width, height)\n",
    "\n",
    "# Initialize video writer\n",
    "fourcc = cv2.VideoWriter_fourcc(*'DIVX')  # Codec\n",
    "out = cv2.VideoWriter(path, fourcc, fps, frame_size)\n",
    "\n",
    "# Write frames to video\n",
    "for frame in frames:\n",
    "    out.write(cv2.cvtColor(frame, cv2.COLOR_RGB2BGR))  # Convert RGB to BGR format\n",
    "\n",
    "out.release()  # Finalize and close the video writer\n"
   ]
  },
  {
   "cell_type": "code",
   "execution_count": 16,
   "metadata": {},
   "outputs": [],
   "source": [
    "import cv2\n",
    "import gym\n",
    "from pathlib import Path\n",
    "import numpy as np\n",
    "from IPython.display import HTML\n",
    "from base64 import b64encode\n",
    "\n",
    "class RecordVideos(gym.Wrapper):\n",
    "    def __init__(self, env, save_dir=\"videos\", fps=20):\n",
    "        super().__init__(env)\n",
    "        self.frames = []\n",
    "        self.save_dir = Path(save_dir)\n",
    "        self.fps = fps\n",
    "        self.save_dir.mkdir(parents=True, exist_ok=True)\n",
    "        self.video_path = None\n",
    "\n",
    "    def reset(self, **kwargs):\n",
    "        self.frames = []\n",
    "        return super().reset(**kwargs)\n",
    "\n",
    "    def step(self, action):\n",
    "        observation, reward, done, truncated, info = super().step(action)\n",
    "        self.frames.append(self.env.render())\n",
    "        return observation, reward, done, truncated, info\n",
    "\n",
    "    def close(self):\n",
    "        if self.frames:\n",
    "            self.save_video()\n",
    "        super().close()\n",
    "\n",
    "    def save_video(self):\n",
    "        video_id = len(list(self.save_dir.glob(\"*.avi\"))) + 1\n",
    "        self.video_path = self.save_dir / f\"episode_{video_id}.avi\"\n",
    "        frame_size = (self.frames[0].shape[1], self.frames[0].shape[0])\n",
    "        out = cv2.VideoWriter(str(self.video_path), cv2.VideoWriter_fourcc(*'DIVX'), self.fps, frame_size)\n",
    "        for frame in self.frames:\n",
    "            out.write(cv2.cvtColor(frame, cv2.COLOR_RGB2BGR))\n",
    "        out.release()\n",
    "\n",
    "def record_videos(env):\n",
    "    return RecordVideos(env)\n"
   ]
  },
  {
   "cell_type": "markdown",
   "metadata": {},
   "source": [
    "## Experience collection"
   ]
  },
  {
   "cell_type": "code",
   "execution_count": 17,
   "metadata": {},
   "outputs": [],
   "source": [
    "from collections import namedtuple\n",
    "import torch\n",
    "from tqdm import trange\n",
    "import gym\n",
    "\n",
    "Transition = namedtuple('Transition', ['state', 'action', 'next_state'])\n",
    "\n",
    "def collect_interaction_data(env, size=1000, action_repeat=2):\n",
    "    state_data, action_data, next_state_data = [], [], []\n",
    "    done = True\n",
    "\n",
    "    for _ in trange(size, desc=\"Collecting interaction data\"):\n",
    "        if done:\n",
    "            state, info = env.reset()\n",
    "        action = env.action_space.sample()\n",
    "        \n",
    "        for _ in range(action_repeat):\n",
    "            next_state, reward, done, truncated, info = env.step(action)\n",
    "            state_data.append(state[\"observation\"])\n",
    "            action_data.append([action])  # Keep the action in a list to maintain the correct structure\n",
    "            next_state_data.append(next_state[\"observation\"])\n",
    "            state = next_state\n",
    "\n",
    "    # Convert lists of arrays to tensors\n",
    "    state_tensor = torch.tensor(np.array(state_data), dtype=torch.float32)\n",
    "    action_tensor = torch.tensor(np.array(action_data), dtype=torch.float32)\n",
    "    next_state_tensor = torch.tensor(np.array(next_state_data), dtype=torch.float32)\n",
    "    \n",
    "    # Zip the tensors to create a list of Transitions\n",
    "    data = [Transition(s, a, ns) for s, a, ns in zip(state_tensor, action_tensor, next_state_tensor)]\n",
    "    return data\n",
    "\n"
   ]
  },
  {
   "cell_type": "code",
   "execution_count": 18,
   "metadata": {},
   "outputs": [
    {
     "name": "stderr",
     "output_type": "stream",
     "text": [
      "Collecting interaction data: 100%|██████████| 1000/1000 [00:16<00:00, 61.32it/s]"
     ]
    },
    {
     "name": "stdout",
     "output_type": "stream",
     "text": [
      "Sample transition: Transition(state=tensor([ 0.0000,  0.0000, -0.0000, -0.0000, -0.4318, -0.9020]), action=tensor([[-0.3259, -0.6564]]), next_state=tensor([ 1.4361e-04,  1.6305e-04,  2.8007e-02,  5.8860e-02, -4.2967e-01,\n",
      "        -9.0299e-01]))\n"
     ]
    },
    {
     "name": "stderr",
     "output_type": "stream",
     "text": [
      "\n"
     ]
    }
   ],
   "source": [
    "# Collect interaction data\n",
    "data = collect_interaction_data(env)\n",
    "\n",
    "# Print a sample transition\n",
    "print(\"Sample transition:\", data[0])"
   ]
  },
  {
   "cell_type": "code",
   "execution_count": 19,
   "metadata": {},
   "outputs": [
    {
     "data": {
      "text/plain": [
       "torch.Size([6])"
      ]
     },
     "execution_count": 19,
     "metadata": {},
     "output_type": "execute_result"
    }
   ],
   "source": [
    "data[0].state.shape"
   ]
  },
  {
   "cell_type": "markdown",
   "metadata": {},
   "source": [
    "## Dynamic Model"
   ]
  },
  {
   "cell_type": "code",
   "execution_count": 20,
   "metadata": {},
   "outputs": [],
   "source": [
    "import torch\n",
    "import torch.nn as nn\n",
    "import torch.nn.functional as F\n",
    "\n",
    "class DynamicsModel(nn.Module):\n",
    "    def __init__(self, state_size, action_size, hidden_size, dt):\n",
    "        super().__init__()\n",
    "        self.state_size, self.action_size, self.dt = state_size, action_size, dt\n",
    "        A_size, B_size = state_size * state_size, state_size * action_size\n",
    "        self.A1 = nn.Linear(state_size + action_size, hidden_size)\n",
    "        self.A2 = nn.Linear(hidden_size, A_size)\n",
    "        self.B1 = nn.Linear(state_size + action_size, hidden_size)\n",
    "        self.B2 = nn.Linear(hidden_size, B_size)\n",
    "\n",
    "    def forward(self, x, u):\n",
    "        \"\"\"\n",
    "        Predict x_{t+1} = f(x_t, u_t)\n",
    "        :param x: a batch of states\n",
    "        :param u: a batch of actions\n",
    "        \"\"\"\n",
    "        # Ensure that x and u have the same batch size in the first dimension\n",
    "        if x.ndim == 1:\n",
    "            x = x.unsqueeze(0)  # Add batch dimension if missing\n",
    "        if x.ndim == 1:\n",
    "            x = x.unsqueeze(0)  # Add batch dimension if missing\n",
    "        if u.ndim > 2:\n",
    "            u = u.squeeze(1)\n",
    "        #print(x.shape, u.shape)\n",
    "        xu = torch.cat((x, u), dim=-1)\n",
    "        \n",
    "        A = self.A2(F.relu(self.A1(xu)))\n",
    "        A = A.view(-1, self.state_size, self.state_size)  # Use view for reshaping\n",
    "        B = self.B2(F.relu(self.B1(xu)))\n",
    "        B = B.view(-1, self.state_size, self.action_size)  # Use view for reshaping\n",
    "        \n",
    "        # Apply dynamics\n",
    "        dx = A.bmm(x.unsqueeze(-1)) + B.bmm(u.unsqueeze(-1))  # Use batch matrix multiplication\n",
    "        next_state = x + dx.squeeze(-1) * self.dt\n",
    "\n",
    "        return next_state\n"
   ]
  },
  {
   "cell_type": "code",
   "execution_count": 21,
   "metadata": {},
   "outputs": [],
   "source": [
    "dynamics = DynamicsModel(state_size=env.observation_space.spaces[\"observation\"].shape[0],\n",
    "                         action_size=env.action_space.shape[0],\n",
    "                         hidden_size=64,\n",
    "                         dt=1/env.unwrapped.config[\"policy_frequency\"])\n",
    "\n"
   ]
  },
  {
   "cell_type": "code",
   "execution_count": 22,
   "metadata": {},
   "outputs": [
    {
     "name": "stdout",
     "output_type": "stream",
     "text": [
      "Forward initial model on a sample transition: tensor([[ 4.0176e-04, -1.6560e-02, -7.7372e-02,  1.4338e-02, -4.9447e-01,\n",
      "         -9.0843e-01]])\n"
     ]
    }
   ],
   "source": [
    "# Assuming data[0].action.shape is [1, action_size] after unsqueezing\n",
    "state_tensor = data[0].state.unsqueeze(0)  # Adds a batch dimension, shape becomes [1, 6]\n",
    "action_tensor = data[0].action  # If action is already [1, action_size], no need to unsqueeze\n",
    "\n",
    "# Now, if action_tensor is not the correct shape, let's adjust it\n",
    "# Check the shape first\n",
    "\"\"\"\n",
    "print(\"Action shape before adjustment:\", action_tensor.shape)\n",
    "\n",
    "# If action_tensor is [1, 1, action_size], we need to remove the unnecessary middle dimension\n",
    "if action_tensor.dim() == 3 and action_tensor.shape[1] == 1:\n",
    "    action_tensor = action_tensor.squeeze(1)  # Now shape becomes [1, action_size]\n",
    "\n",
    "# Double check shapes before passing to dynamics model\n",
    "print(\"State tensor shape:\", state_tensor.shape)\n",
    "print(\"Action tensor shape:\", action_tensor.shape)\n",
    "\"\"\"\n",
    "# Forward pass through the dynamics model\n",
    "predicted_next_state = dynamics(state_tensor, action_tensor).detach()\n",
    "print(\"Forward initial model on a sample transition:\", predicted_next_state)\n"
   ]
  },
  {
   "cell_type": "markdown",
   "metadata": {},
   "source": [
    "## Fit the model on data"
   ]
  },
  {
   "cell_type": "code",
   "execution_count": 23,
   "metadata": {},
   "outputs": [
    {
     "name": "stdout",
     "output_type": "stream",
     "text": [
      "WARNING:tensorflow:From c:\\Users\\oumai\\AppData\\Local\\Programs\\Python\\Python311\\Lib\\site-packages\\keras\\src\\losses.py:2976: The name tf.losses.sparse_softmax_cross_entropy is deprecated. Please use tf.compat.v1.losses.sparse_softmax_cross_entropy instead.\n",
      "\n"
     ]
    },
    {
     "name": "stderr",
     "output_type": "stream",
     "text": [
      "Train dynamics:   7%|▋         | 102/1500 [00:05<01:19, 17.60it/s]"
     ]
    },
    {
     "name": "stdout",
     "output_type": "stream",
     "text": [
      "Epoch 100/1500, Train Loss: 0.0001, Validation Loss: 0.0004\n"
     ]
    },
    {
     "name": "stderr",
     "output_type": "stream",
     "text": [
      "Train dynamics:  13%|█▎        | 202/1500 [00:12<01:14, 17.31it/s]"
     ]
    },
    {
     "name": "stdout",
     "output_type": "stream",
     "text": [
      "Epoch 200/1500, Train Loss: 0.0002, Validation Loss: 0.0005\n"
     ]
    },
    {
     "name": "stderr",
     "output_type": "stream",
     "text": [
      "Train dynamics:  20%|██        | 302/1500 [00:17<01:06, 18.04it/s]"
     ]
    },
    {
     "name": "stdout",
     "output_type": "stream",
     "text": [
      "Epoch 300/1500, Train Loss: 0.0001, Validation Loss: 0.0005\n"
     ]
    },
    {
     "name": "stderr",
     "output_type": "stream",
     "text": [
      "Train dynamics:  27%|██▋       | 402/1500 [00:23<01:00, 18.28it/s]"
     ]
    },
    {
     "name": "stdout",
     "output_type": "stream",
     "text": [
      "Epoch 400/1500, Train Loss: 0.0001, Validation Loss: 0.0010\n"
     ]
    },
    {
     "name": "stderr",
     "output_type": "stream",
     "text": [
      "Train dynamics:  33%|███▎      | 501/1500 [00:30<01:21, 12.28it/s]"
     ]
    },
    {
     "name": "stdout",
     "output_type": "stream",
     "text": [
      "Epoch 500/1500, Train Loss: 0.0001, Validation Loss: 0.0008\n"
     ]
    },
    {
     "name": "stderr",
     "output_type": "stream",
     "text": [
      "Train dynamics:  40%|████      | 601/1500 [00:38<01:00, 14.95it/s]"
     ]
    },
    {
     "name": "stdout",
     "output_type": "stream",
     "text": [
      "Epoch 600/1500, Train Loss: 0.0001, Validation Loss: 0.0007\n"
     ]
    },
    {
     "name": "stderr",
     "output_type": "stream",
     "text": [
      "Train dynamics:  47%|████▋     | 701/1500 [00:45<00:58, 13.73it/s]"
     ]
    },
    {
     "name": "stdout",
     "output_type": "stream",
     "text": [
      "Epoch 700/1500, Train Loss: 0.0000, Validation Loss: 0.0006\n"
     ]
    },
    {
     "name": "stderr",
     "output_type": "stream",
     "text": [
      "Train dynamics:  53%|█████▎    | 801/1500 [00:52<00:59, 11.84it/s]"
     ]
    },
    {
     "name": "stdout",
     "output_type": "stream",
     "text": [
      "Epoch 800/1500, Train Loss: 0.0001, Validation Loss: 0.0006\n"
     ]
    },
    {
     "name": "stderr",
     "output_type": "stream",
     "text": [
      "Train dynamics:  60%|██████    | 901/1500 [01:01<00:45, 13.26it/s]"
     ]
    },
    {
     "name": "stdout",
     "output_type": "stream",
     "text": [
      "Epoch 900/1500, Train Loss: 0.0001, Validation Loss: 0.0007\n"
     ]
    },
    {
     "name": "stderr",
     "output_type": "stream",
     "text": [
      "Train dynamics:  67%|██████▋   | 1001/1500 [01:09<00:35, 13.96it/s]"
     ]
    },
    {
     "name": "stdout",
     "output_type": "stream",
     "text": [
      "Epoch 1000/1500, Train Loss: 0.0001, Validation Loss: 0.0006\n"
     ]
    },
    {
     "name": "stderr",
     "output_type": "stream",
     "text": [
      "Train dynamics:  73%|███████▎  | 1101/1500 [01:17<00:40,  9.82it/s]"
     ]
    },
    {
     "name": "stdout",
     "output_type": "stream",
     "text": [
      "Epoch 1100/1500, Train Loss: 0.0001, Validation Loss: 0.0005\n"
     ]
    },
    {
     "name": "stderr",
     "output_type": "stream",
     "text": [
      "Train dynamics:  80%|████████  | 1201/1500 [01:24<00:21, 14.20it/s]"
     ]
    },
    {
     "name": "stdout",
     "output_type": "stream",
     "text": [
      "Epoch 1200/1500, Train Loss: 0.0001, Validation Loss: 0.0005\n"
     ]
    },
    {
     "name": "stderr",
     "output_type": "stream",
     "text": [
      "Train dynamics:  87%|████████▋ | 1301/1500 [01:32<00:17, 11.27it/s]"
     ]
    },
    {
     "name": "stdout",
     "output_type": "stream",
     "text": [
      "Epoch 1300/1500, Train Loss: 0.0001, Validation Loss: 0.0006\n"
     ]
    },
    {
     "name": "stderr",
     "output_type": "stream",
     "text": [
      "Train dynamics:  93%|█████████▎| 1401/1500 [01:39<00:07, 13.84it/s]"
     ]
    },
    {
     "name": "stdout",
     "output_type": "stream",
     "text": [
      "Epoch 1400/1500, Train Loss: 0.0001, Validation Loss: 0.0005\n"
     ]
    },
    {
     "name": "stderr",
     "output_type": "stream",
     "text": [
      "Train dynamics: 100%|██████████| 1500/1500 [01:47<00:00, 13.96it/s]"
     ]
    },
    {
     "name": "stdout",
     "output_type": "stream",
     "text": [
      "Epoch 1500/1500, Train Loss: 0.0001, Validation Loss: 0.0007\n"
     ]
    },
    {
     "name": "stderr",
     "output_type": "stream",
     "text": [
      "\n"
     ]
    }
   ],
   "source": [
    "import numpy as np\n",
    "import matplotlib.pyplot as plt\n",
    "from tqdm import trange\n",
    "from torch.utils.tensorboard import SummaryWriter\n",
    "from torch.utils.data import DataLoader, random_split\n",
    "\n",
    "dataset = data  # Assuming 'data' is a list of Transition namedtuples\n",
    "train_ratio = 0.7\n",
    "train_count = int(train_ratio * len(dataset))\n",
    "train_dataset, validation_dataset = random_split(dataset, [train_count, len(dataset) - train_count])\n",
    "\n",
    "# Create DataLoader for batch processing\n",
    "train_loader = DataLoader(train_dataset, batch_size=64, shuffle=True)\n",
    "validation_loader = DataLoader(validation_dataset, batch_size=64)\n",
    "\n",
    "optimizer = torch.optim.Adam(dynamics.parameters(), lr=0.01)\n",
    "loss_func = torch.nn.MSELoss()\n",
    "\n",
    "# Setup TensorBoard writer\n",
    "writer = SummaryWriter()\n",
    "\n",
    "def train(model, train_loader, validation_loader, epochs=1500):\n",
    "    for epoch in trange(epochs, desc=\"Train dynamics\"):\n",
    "        model.train()  # Set model to training mode\n",
    "        total_train_loss = 0\n",
    "        for batch in train_loader:\n",
    "            states, actions, next_states = batch\n",
    "            optimizer.zero_grad()\n",
    "            predictions = model(states, actions)\n",
    "            loss = loss_func(predictions, next_states)\n",
    "            loss.backward()\n",
    "            optimizer.step()\n",
    "            total_train_loss += loss.item() * len(states)\n",
    "\n",
    "        # Validation phase\n",
    "        model.eval()  # Set model to evaluation mode\n",
    "        total_validation_loss = 0\n",
    "        with torch.no_grad():\n",
    "            for batch in validation_loader:\n",
    "                states, actions, next_states = batch\n",
    "                predictions = model(states, actions)\n",
    "                validation_loss = loss_func(predictions, next_states)\n",
    "                total_validation_loss += validation_loss.item() * len(states)\n",
    "\n",
    "        # Calculate average losses\n",
    "        avg_train_loss = total_train_loss / len(train_loader.dataset)\n",
    "        avg_validation_loss = total_validation_loss / len(validation_loader.dataset)\n",
    "\n",
    "        # Log to TensorBoard\n",
    "        writer.add_scalar('Loss/Train', avg_train_loss, epoch)\n",
    "        writer.add_scalar('Loss/Validation', avg_validation_loss, epoch)\n",
    "\n",
    "        if (epoch + 1) % 100 == 0:  # Print every 100 epochs\n",
    "            print(f\"Epoch {epoch+1}/{epochs}, Train Loss: {avg_train_loss:.4f}, Validation Loss: {avg_validation_loss:.4f}\")\n",
    "\n",
    "# Finally, train the model\n",
    "train(dynamics, train_loader, validation_loader)\n",
    "\n",
    "# Close the TensorBoard writer\n",
    "writer.close()\n"
   ]
  },
  {
   "cell_type": "markdown",
   "metadata": {},
   "source": [
    "## Visualize trained dynamics"
   ]
  },
  {
   "cell_type": "code",
   "execution_count": 24,
   "metadata": {},
   "outputs": [],
   "source": [
    "def predict_trajectory(state, actions, model, action_repeat=1):\n",
    "    states = []\n",
    "    for action in actions:\n",
    "        for _ in range(action_repeat):\n",
    "            state = model(state, action)\n",
    "            states.append(state)\n",
    "    return torch.stack(states, dim=0)"
   ]
  },
  {
   "cell_type": "code",
   "execution_count": 25,
   "metadata": {},
   "outputs": [],
   "source": [
    "def plot_trajectory(states, color, label):\n",
    "    scales = np.array(env.unwrapped.config[\"observation\"][\"scales\"])\n",
    "    states = np.clip(states.squeeze(1).detach().numpy() * scales, -100, 100)\n",
    "    plt.plot(states[:, 0], states[:, 1], color=color, marker='.', label=label)\n",
    "    plt.arrow(states[-1, 0], states[-1, 1], states[-1, 4]*1, states[-1, 5]*1, color=color, head_width=0.5)\n"
   ]
  },
  {
   "cell_type": "code",
   "execution_count": 26,
   "metadata": {},
   "outputs": [],
   "source": [
    "def visualize_trajectories(model, state, horizon=15):\n",
    "    plt.cla()\n",
    "    # Draw a car\n",
    "    plt.plot(state.numpy()[0]+2.5*np.array([-1, -1, 1, 1, -1]),\n",
    "             state.numpy()[1]+1.0*np.array([-1, 1, 1, -1, -1]), 'k', label='Car')\n",
    "    \n",
    "    state = state.unsqueeze(0)\n",
    "    colors = iter(plt.get_cmap(\"tab20\").colors)\n",
    "    \n",
    "    # Generate commands and predict trajectories\n",
    "    for i, steering in enumerate(np.linspace(-0.5, 0.5, 3)):\n",
    "        for j, acceleration in enumerate(np.linspace(0.8, 0.4, 2)):\n",
    "            actions = torch.Tensor([acceleration, steering]).view(1, 1, -1)\n",
    "            states = predict_trajectory(state, actions, model, action_repeat=horizon)\n",
    "            label = f'Steering {steering:.2f}, Acc {acceleration:.2f}'\n",
    "            plot_trajectory(states, color=next(colors), label=label)\n",
    "    \n",
    "    plt.axis(\"equal\")\n",
    "    plt.legend()  # Add this to show the legend\n",
    "    plt.show()\n"
   ]
  },
  {
   "cell_type": "code",
   "execution_count": 27,
   "metadata": {},
   "outputs": [
    {
     "data": {
      "image/png": "[encoded data removed]",
      "text/plain": [
       "<Figure size 640x480 with 1 Axes>"
      ]
     },
     "metadata": {},
     "output_type": "display_data"
    }
   ],
   "source": [
    "visualize_trajectories(dynamics, state=torch.Tensor([0, 0, 0, 0, 1, 0]))"
   ]
  },
  {
   "cell_type": "markdown",
   "metadata": {},
   "source": [
    "The plot appears to be a visualization of different trajectories a car might follow based on varying steering and acceleration commands over a certain horizon. Here’s an interpretation of the plot:\n",
    "\n",
    "- The black box represents the starting position and orientation of the car.\n",
    "- Each line represents a potential path the car could take over time, with the arrow indicating the final position and direction after the sequence of actions.\n",
    "- The colors distinguish between different combinations of steering angles and acceleration values.\n",
    "- Trajectories with `Steering -0.50` turn sharply to the left, while those with `Steering 0.50` turn sharply to the right. The ones with `Steering 0.00` represent paths where the steering wheel is held straight.\n",
    "- The solid lines indicate higher acceleration (`Acc 0.80`), leading to a longer path within the same time frame, compared to the dashed lines (`Acc 0.40`), which show lower acceleration.\n",
    "\n",
    "Key Observations:\n",
    "\n",
    "- The car turns more sharply at lower accelerations for the same steering angle, which can be seen from the tighter turning radius of the dashed lines compared to the solid ones.\n",
    "- With no steering (`Steering 0.00`), the car moves straight, and the difference in acceleration is clear from the length of the trajectory.\n",
    "- The plot successfully shows how different driving commands can lead to very different outcomes for the vehicle's position and orientation.\n",
    "\n",
    "This visualization is likely used to predict the car's future state given different control inputs, which could be crucial for tasks such as autonomous driving, path planning, or control systems design. It's a useful tool for understanding how the car responds to commands and for designing control strategies that lead to desired behaviors."
   ]
  },
  {
   "cell_type": "markdown",
   "metadata": {},
   "source": [
    "## Reward model"
   ]
  },
  {
   "cell_type": "code",
   "execution_count": 28,
   "metadata": {},
   "outputs": [
    {
     "name": "stdout",
     "output_type": "stream",
     "text": [
      "Reward of a sample transition: tensor([-0.5125])\n"
     ]
    }
   ],
   "source": [
    "def reward_model(states, goal, gamma=None):\n",
    "    \"\"\"\n",
    "        The reward is a weighted L1-norm between the state and a goal\n",
    "    :param Tensor states: a batch of states. shape: [batch_size, state_size].\n",
    "    :param Tensor goal: a goal state. shape: [state_size].\n",
    "    :param float gamma: a discount factor\n",
    "    \"\"\"\n",
    "    goal = goal.expand(states.shape)\n",
    "    reward_weigths = torch.Tensor(env.unwrapped.config[\"reward_weights\"])\n",
    "    rewards = -torch.pow(torch.norm((states-goal)*reward_weigths, p=1, dim=-1), 0.5)\n",
    "    if gamma:\n",
    "        time = torch.arange(rewards.shape[0], dtype=torch.float).unsqueeze(-1).expand(rewards.shape)\n",
    "        rewards *= torch.pow(gamma, time)\n",
    "    return rewards\n",
    "\n",
    "obs, info = env.reset()\n",
    "print(\"Reward of a sample transition:\", reward_model(torch.Tensor(obs[\"observation\"]).unsqueeze(0),\n",
    "                                                     torch.Tensor(obs[\"desired_goal\"])))"
   ]
  },
  {
   "cell_type": "markdown",
   "metadata": {},
   "source": [
    "## Leverage dynamics model for planning"
   ]
  },
  {
   "cell_type": "markdown",
   "metadata": {},
   "source": [
    "We now use the learnt dynamics model for planning. In order to solve the optimal control problem, we use a sampling-based optimization algorithm: the Cross-Entropy Method (CEM). It is an optimization algorithm applicable to problems that are both combinatorial and continuous, which is our case: find the best performing sequence of actions."
   ]
  },
  {
   "cell_type": "code",
   "execution_count": 29,
   "metadata": {},
   "outputs": [],
   "source": [
    "def cem_planner(state, goal, action_size, horizon=5, population=100, selection=10, iterations=5):\n",
    "    state = state.expand(population, -1)\n",
    "    action_mean = torch.zeros(horizon, 1, action_size)\n",
    "    action_std = torch.ones(horizon, 1, action_size)\n",
    "    for _ in range(iterations):\n",
    "        # 1. Draw sample sequences of actions from a normal distribution\n",
    "        actions = torch.normal(mean=action_mean.repeat(1, population, 1), std=action_std.repeat(1, population, 1))\n",
    "        actions = torch.clamp(actions, min=env.action_space.low.min(), max=env.action_space.high.max())\n",
    "        states = predict_trajectory(state, actions, dynamics, action_repeat=5)\n",
    "        # 2. Fit the distribution to the top-k performing sequences\n",
    "        returns = reward_model(states, goal).sum(dim=0)\n",
    "        _, best = returns.topk(selection, largest=True, sorted=False)\n",
    "        best_actions = actions[:, best, :]\n",
    "        action_mean = best_actions.mean(dim=1, keepdim=True)\n",
    "        action_std = best_actions.std(dim=1, unbiased=False, keepdim=True)\n",
    "    return action_mean[0].squeeze(dim=0)"
   ]
  },
  {
   "cell_type": "code",
   "execution_count": 30,
   "metadata": {},
   "outputs": [
    {
     "name": "stdout",
     "output_type": "stream",
     "text": [
      "Planned action: tensor([0.9410, 0.1018])\n"
     ]
    }
   ],
   "source": [
    "# Run the planner on a sample transition\n",
    "action = cem_planner(torch.Tensor(obs[\"observation\"]),\n",
    "                     torch.Tensor(obs[\"desired_goal\"]),\n",
    "                     env.action_space.shape[0])\n",
    "print(\"Planned action:\", action)"
   ]
  },
  {
   "cell_type": "code",
   "execution_count": 31,
   "metadata": {},
   "outputs": [
    {
     "name": "stderr",
     "output_type": "stream",
     "text": [
      "c:\\Users\\oumai\\AppData\\Local\\Programs\\Python\\Python311\\Lib\\site-packages\\gymnasium\\core.py:311: UserWarning: \u001b[33mWARN: env.config to get variables from other wrappers is deprecated and will be removed in v1.0, to get this variable you can do `env.unwrapped.config` for environment variables or `env.get_wrapper_attr('config')` that will search the reminding wrappers.\u001b[0m\n",
      "  logger.warn(\n",
      "Testing 3 episodes...:   0%|          | 0/300 [00:00<?, ?it/s]"
     ]
    },
    {
     "name": "stderr",
     "output_type": "stream",
     "text": [
      "Testing 3 episodes...: 100%|██████████| 300/300 [00:47<00:00,  6.28it/s]\n"
     ]
    }
   ],
   "source": [
    "env = record_videos(env)\n",
    "obs, info = env.reset()\n",
    "\n",
    "for step in trange(3 * env.config[\"duration\"], desc=\"Testing 3 episodes...\"):\n",
    "    action = cem_planner(torch.Tensor(obs[\"observation\"]),\n",
    "                         torch.Tensor(obs[\"desired_goal\"]),\n",
    "                         env.action_space.shape[0])\n",
    "    obs, reward, done, truncated, info = env.step(action.numpy())\n",
    "    if done or truncated:\n",
    "        obs, info = env.reset()\n",
    "env.close()"
   ]
  },
  {
   "cell_type": "markdown",
   "metadata": {},
   "source": [
    "Differences Between This Method and DDPG:\n",
    "- Model-Based vs. Model-Free: The approach in the notebook is model-based, focusing on learning the environment's dynamics. DDPG is a model-free method that directly learns a policy and value function without explicitly modeling the environment's dynamics.\n",
    "- Usage: The learned dynamics model can be used for planning or to improve a policy, potentially in combination with model-free methods like DDPG. DDPG learns the policy based on trial and error in the environment, using a replay buffer and target networks to stabilize training.\n",
    "- Objective: The primary objective in the notebook is accurate prediction of the environment's next state, while DDPG aims to maximize cumulative rewards by learning an optimal policy.\n",
    "- Application: Model-based methods like the one described can be particularly beneficial in environments where sampling data is expensive, as they can leverage the learned model to simulate outcomes. DDPG and other model-free methods may require more interactions with the environment but are broadly applicable to various tasks without the need to learn an accurate model."
   ]
  }
 ],
 "metadata": {
  "kernelspec": {
   "display_name": "Python 3",
   "language": "python",
   "name": "python3"
  },
  "language_info": {
   "codemirror_mode": {
    "name": "ipython",
    "version": 3
   },
   "file_extension": ".py",
   "mimetype": "text/x-python",
   "name": "python",
   "nbconvert_exporter": "python",
   "pygments_lexer": "ipython3",
   "version": "3.11.1"
  }
 },
 "nbformat": 4,
 "nbformat_minor": 2
}
